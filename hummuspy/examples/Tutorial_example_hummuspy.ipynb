{
 "cells": [
  {
   "cell_type": "code",
   "execution_count": 123,
   "id": "ecfaaa45",
   "metadata": {},
   "outputs": [
    {
     "name": "stdout",
     "output_type": "stream",
     "text": [
      "Processing /home/rtrimbou/HuMMuS/hummus_package/hummuspy\n",
      "  Installing build dependencies ... \u001b[?25ldone\n",
      "\u001b[?25h  Getting requirements to build wheel ... \u001b[?25ldone\n",
      "\u001b[?25h  Preparing metadata (pyproject.toml) ... \u001b[?25ldone\n",
      "\u001b[?25hRequirement already satisfied: bokeh!=3.0.*,>=2.4.2 in /home/rtrimbou/miniconda3/envs/hummuspy_recent/lib/python3.10/site-packages (from hummuspy==0.1.7.post3) (3.7.3)\n",
      "Requirement already satisfied: dask>=2023.0.0 in /home/rtrimbou/miniconda3/envs/hummuspy_recent/lib/python3.10/site-packages (from hummuspy==0.1.7.post3) (2025.5.0)\n",
      "Requirement already satisfied: distributed>=2023.0.0 in /home/rtrimbou/miniconda3/envs/hummuspy_recent/lib/python3.10/site-packages (from hummuspy==0.1.7.post3) (2025.5.0)\n",
      "Requirement already satisfied: joblib<2.0.0,>=1.3.0 in /home/rtrimbou/miniconda3/envs/hummuspy_recent/lib/python3.10/site-packages (from hummuspy==0.1.7.post3) (1.3.2)\n",
      "Requirement already satisfied: matplotlib<4.0.0,>=3.4.3 in /home/rtrimbou/miniconda3/envs/hummuspy_recent/lib/python3.10/site-packages (from hummuspy==0.1.7.post3) (3.8.3)\n",
      "Requirement already satisfied: multixrank<0.4,>=0.1 in /home/rtrimbou/miniconda3/envs/hummuspy_recent/lib/python3.10/site-packages (from hummuspy==0.1.7.post3) (0.3)\n",
      "Requirement already satisfied: numpy<2.0.0,>1.24.2 in /home/rtrimbou/miniconda3/envs/hummuspy_recent/lib/python3.10/site-packages (from hummuspy==0.1.7.post3) (1.26.4)\n",
      "Requirement already satisfied: pandas<3.0.0,>=2.0.0 in /home/rtrimbou/miniconda3/envs/hummuspy_recent/lib/python3.10/site-packages (from hummuspy==0.1.7.post3) (2.2.1)\n",
      "Requirement already satisfied: pyyaml<7.0,>=6.0 in /home/rtrimbou/miniconda3/envs/hummuspy_recent/lib/python3.10/site-packages (from hummuspy==0.1.7.post3) (6.0.1)\n",
      "Requirement already satisfied: rich>=10.12.0 in /home/rtrimbou/miniconda3/envs/hummuspy_recent/lib/python3.10/site-packages (from hummuspy==0.1.7.post3) (14.0.0)\n",
      "Requirement already satisfied: scipy<2.0.0,>=1.8.0 in /home/rtrimbou/miniconda3/envs/hummuspy_recent/lib/python3.10/site-packages (from hummuspy==0.1.7.post3) (1.12.0)\n",
      "Requirement already satisfied: tqdm>=4.66.3 in /home/rtrimbou/miniconda3/envs/hummuspy_recent/lib/python3.10/site-packages (from hummuspy==0.1.7.post3) (4.67.1)\n",
      "Requirement already satisfied: Jinja2>=2.9 in /home/rtrimbou/miniconda3/envs/hummuspy_recent/lib/python3.10/site-packages (from bokeh!=3.0.*,>=2.4.2->hummuspy==0.1.7.post3) (3.1.3)\n",
      "Requirement already satisfied: contourpy>=1.2 in /home/rtrimbou/miniconda3/envs/hummuspy_recent/lib/python3.10/site-packages (from bokeh!=3.0.*,>=2.4.2->hummuspy==0.1.7.post3) (1.2.0)\n",
      "Requirement already satisfied: narwhals>=1.13 in /home/rtrimbou/miniconda3/envs/hummuspy_recent/lib/python3.10/site-packages (from bokeh!=3.0.*,>=2.4.2->hummuspy==0.1.7.post3) (1.39.0)\n",
      "Requirement already satisfied: packaging>=16.8 in /home/rtrimbou/miniconda3/envs/hummuspy_recent/lib/python3.10/site-packages (from bokeh!=3.0.*,>=2.4.2->hummuspy==0.1.7.post3) (23.2)\n",
      "Requirement already satisfied: pillow>=7.1.0 in /home/rtrimbou/miniconda3/envs/hummuspy_recent/lib/python3.10/site-packages (from bokeh!=3.0.*,>=2.4.2->hummuspy==0.1.7.post3) (10.2.0)\n",
      "Requirement already satisfied: tornado>=6.2 in /home/rtrimbou/miniconda3/envs/hummuspy_recent/lib/python3.10/site-packages (from bokeh!=3.0.*,>=2.4.2->hummuspy==0.1.7.post3) (6.4)\n",
      "Requirement already satisfied: xyzservices>=2021.09.1 in /home/rtrimbou/miniconda3/envs/hummuspy_recent/lib/python3.10/site-packages (from bokeh!=3.0.*,>=2.4.2->hummuspy==0.1.7.post3) (2025.4.0)\n",
      "Requirement already satisfied: click>=8.1 in /home/rtrimbou/miniconda3/envs/hummuspy_recent/lib/python3.10/site-packages (from dask>=2023.0.0->hummuspy==0.1.7.post3) (8.2.0)\n",
      "Requirement already satisfied: cloudpickle>=3.0.0 in /home/rtrimbou/miniconda3/envs/hummuspy_recent/lib/python3.10/site-packages (from dask>=2023.0.0->hummuspy==0.1.7.post3) (3.1.1)\n",
      "Requirement already satisfied: fsspec>=2021.09.0 in /home/rtrimbou/miniconda3/envs/hummuspy_recent/lib/python3.10/site-packages (from dask>=2023.0.0->hummuspy==0.1.7.post3) (2025.3.2)\n",
      "Requirement already satisfied: partd>=1.4.0 in /home/rtrimbou/miniconda3/envs/hummuspy_recent/lib/python3.10/site-packages (from dask>=2023.0.0->hummuspy==0.1.7.post3) (1.4.2)\n",
      "Requirement already satisfied: toolz>=0.10.0 in /home/rtrimbou/miniconda3/envs/hummuspy_recent/lib/python3.10/site-packages (from dask>=2023.0.0->hummuspy==0.1.7.post3) (1.0.0)\n",
      "Requirement already satisfied: importlib_metadata>=4.13.0 in /home/rtrimbou/miniconda3/envs/hummuspy_recent/lib/python3.10/site-packages (from dask>=2023.0.0->hummuspy==0.1.7.post3) (7.0.1)\n",
      "Requirement already satisfied: locket>=1.0.0 in /home/rtrimbou/miniconda3/envs/hummuspy_recent/lib/python3.10/site-packages (from distributed>=2023.0.0->hummuspy==0.1.7.post3) (1.0.0)\n",
      "Requirement already satisfied: msgpack>=1.0.2 in /home/rtrimbou/miniconda3/envs/hummuspy_recent/lib/python3.10/site-packages (from distributed>=2023.0.0->hummuspy==0.1.7.post3) (1.1.0)\n",
      "Requirement already satisfied: psutil>=5.8.0 in /home/rtrimbou/miniconda3/envs/hummuspy_recent/lib/python3.10/site-packages (from distributed>=2023.0.0->hummuspy==0.1.7.post3) (5.9.8)\n",
      "Requirement already satisfied: sortedcontainers>=2.0.5 in /home/rtrimbou/miniconda3/envs/hummuspy_recent/lib/python3.10/site-packages (from distributed>=2023.0.0->hummuspy==0.1.7.post3) (2.4.0)\n",
      "Requirement already satisfied: tblib>=1.6.0 in /home/rtrimbou/miniconda3/envs/hummuspy_recent/lib/python3.10/site-packages (from distributed>=2023.0.0->hummuspy==0.1.7.post3) (3.1.0)\n",
      "Requirement already satisfied: urllib3>=1.26.5 in /home/rtrimbou/miniconda3/envs/hummuspy_recent/lib/python3.10/site-packages (from distributed>=2023.0.0->hummuspy==0.1.7.post3) (2.2.1)\n",
      "Requirement already satisfied: zict>=3.0.0 in /home/rtrimbou/miniconda3/envs/hummuspy_recent/lib/python3.10/site-packages (from distributed>=2023.0.0->hummuspy==0.1.7.post3) (3.0.0)\n",
      "Requirement already satisfied: cycler>=0.10 in /home/rtrimbou/miniconda3/envs/hummuspy_recent/lib/python3.10/site-packages (from matplotlib<4.0.0,>=3.4.3->hummuspy==0.1.7.post3) (0.12.1)\n",
      "Requirement already satisfied: fonttools>=4.22.0 in /home/rtrimbou/miniconda3/envs/hummuspy_recent/lib/python3.10/site-packages (from matplotlib<4.0.0,>=3.4.3->hummuspy==0.1.7.post3) (4.49.0)\n",
      "Requirement already satisfied: kiwisolver>=1.3.1 in /home/rtrimbou/miniconda3/envs/hummuspy_recent/lib/python3.10/site-packages (from matplotlib<4.0.0,>=3.4.3->hummuspy==0.1.7.post3) (1.4.5)\n",
      "Requirement already satisfied: pyparsing>=2.3.1 in /home/rtrimbou/miniconda3/envs/hummuspy_recent/lib/python3.10/site-packages (from matplotlib<4.0.0,>=3.4.3->hummuspy==0.1.7.post3) (3.1.1)\n",
      "Requirement already satisfied: python-dateutil>=2.7 in /home/rtrimbou/miniconda3/envs/hummuspy_recent/lib/python3.10/site-packages (from matplotlib<4.0.0,>=3.4.3->hummuspy==0.1.7.post3) (2.8.2)\n",
      "Requirement already satisfied: networkx in /home/rtrimbou/miniconda3/envs/hummuspy_recent/lib/python3.10/site-packages (from multixrank<0.4,>=0.1->hummuspy==0.1.7.post3) (3.4.2)\n",
      "Requirement already satisfied: pytz>=2020.1 in /home/rtrimbou/miniconda3/envs/hummuspy_recent/lib/python3.10/site-packages (from pandas<3.0.0,>=2.0.0->hummuspy==0.1.7.post3) (2024.1)\n",
      "Requirement already satisfied: tzdata>=2022.7 in /home/rtrimbou/miniconda3/envs/hummuspy_recent/lib/python3.10/site-packages (from pandas<3.0.0,>=2.0.0->hummuspy==0.1.7.post3) (2024.1)\n",
      "Requirement already satisfied: markdown-it-py>=2.2.0 in /home/rtrimbou/miniconda3/envs/hummuspy_recent/lib/python3.10/site-packages (from rich>=10.12.0->hummuspy==0.1.7.post3) (3.0.0)\n",
      "Requirement already satisfied: pygments<3.0.0,>=2.13.0 in /home/rtrimbou/miniconda3/envs/hummuspy_recent/lib/python3.10/site-packages (from rich>=10.12.0->hummuspy==0.1.7.post3) (2.17.2)\n",
      "Requirement already satisfied: typing-extensions<5.0,>=4.0.0 in /home/rtrimbou/miniconda3/envs/hummuspy_recent/lib/python3.10/site-packages (from rich>=10.12.0->hummuspy==0.1.7.post3) (4.10.0)\n",
      "Requirement already satisfied: zipp>=0.5 in /home/rtrimbou/miniconda3/envs/hummuspy_recent/lib/python3.10/site-packages (from importlib_metadata>=4.13.0->dask>=2023.0.0->hummuspy==0.1.7.post3) (3.17.0)\n",
      "Requirement already satisfied: MarkupSafe>=2.0 in /home/rtrimbou/miniconda3/envs/hummuspy_recent/lib/python3.10/site-packages (from Jinja2>=2.9->bokeh!=3.0.*,>=2.4.2->hummuspy==0.1.7.post3) (2.1.5)\n",
      "Requirement already satisfied: mdurl~=0.1 in /home/rtrimbou/miniconda3/envs/hummuspy_recent/lib/python3.10/site-packages (from markdown-it-py>=2.2.0->rich>=10.12.0->hummuspy==0.1.7.post3) (0.1.2)\n",
      "Requirement already satisfied: six>=1.5 in /home/rtrimbou/miniconda3/envs/hummuspy_recent/lib/python3.10/site-packages (from python-dateutil>=2.7->matplotlib<4.0.0,>=3.4.3->hummuspy==0.1.7.post3) (1.16.0)\n",
      "Building wheels for collected packages: hummuspy\n",
      "  Building wheel for hummuspy (pyproject.toml) ... \u001b[?25ldone\n",
      "\u001b[?25h  Created wheel for hummuspy: filename=hummuspy-0.1.7.post3-py3-none-any.whl size=24130 sha256=6c0450fe1a52a854a41fe179acfed1012b425d799fc955f7a5d8092ced10ffdd\n",
      "  Stored in directory: /tmp/pip-ephem-wheel-cache-kj_8xg1w/wheels/bb/65/2c/e0f4ac73536045783e0ac23c027c4347c43a62cdb780bc856a\n",
      "Successfully built hummuspy\n",
      "Installing collected packages: hummuspy\n",
      "  Attempting uninstall: hummuspy\n",
      "    Found existing installation: hummuspy 0.1.7.post3\n",
      "    Uninstalling hummuspy-0.1.7.post3:\n",
      "      Successfully uninstalled hummuspy-0.1.7.post3\n",
      "Successfully installed hummuspy-0.1.7.post3\n",
      "Note: you may need to restart the kernel to use updated packages.\n"
     ]
    }
   ],
   "source": [
    "pip install .."
   ]
  },
  {
   "cell_type": "code",
   "execution_count": 124,
   "id": "60f20d62-82b4-4cc0-8d2b-d11bdb3434a8",
   "metadata": {},
   "outputs": [],
   "source": [
    "import hummuspy as hummus\n",
    "import numpy as np\n",
    "import pandas as pd\n",
    "import matplotlib.pyplot as plt\n",
    "import networkx as nx"
   ]
  },
  {
   "cell_type": "markdown",
   "id": "701a1bed-5383-40c3-866a-caaa45c268f8",
   "metadata": {},
   "source": [
    "### Load config file"
   ]
  },
  {
   "cell_type": "code",
   "execution_count": 125,
   "id": "38b8b52a-5684-4302-98e4-35311a66df39",
   "metadata": {},
   "outputs": [],
   "source": [
    "config = hummus.config.open_config(\"../../../../HuMMuS/hummus_package/vignettes/test_multiplex_genes/config/config.yml\")"
   ]
  },
  {
   "cell_type": "code",
   "execution_count": 126,
   "id": "08bdde8d-9afa-47ea-9a74-c6666e16200f",
   "metadata": {},
   "outputs": [
    {
     "data": {
      "text/plain": [
       "True"
      ]
     },
     "execution_count": 126,
     "metadata": {},
     "output_type": "execute_result"
    }
   ],
   "source": [
    "hummus.config.check_lamb(config['lamb'], config)"
   ]
  },
  {
   "cell_type": "code",
   "execution_count": 127,
   "id": "14cdb5c9-f886-45ee-b597-d52e1def30a4",
   "metadata": {},
   "outputs": [
    {
     "data": {
      "text/html": [
       "<div>\n",
       "<style scoped>\n",
       "    .dataframe tbody tr th:only-of-type {\n",
       "        vertical-align: middle;\n",
       "    }\n",
       "\n",
       "    .dataframe tbody tr th {\n",
       "        vertical-align: top;\n",
       "    }\n",
       "\n",
       "    .dataframe thead th {\n",
       "        text-align: right;\n",
       "    }\n",
       "</style>\n",
       "<table border=\"1\" class=\"dataframe\">\n",
       "  <thead>\n",
       "    <tr style=\"text-align: right;\">\n",
       "      <th></th>\n",
       "      <th>RNA</th>\n",
       "      <th>TF</th>\n",
       "      <th>peaks</th>\n",
       "    </tr>\n",
       "  </thead>\n",
       "  <tbody>\n",
       "    <tr>\n",
       "      <th>RNA</th>\n",
       "      <td>0.5</td>\n",
       "      <td>0.0</td>\n",
       "      <td>0.5</td>\n",
       "    </tr>\n",
       "    <tr>\n",
       "      <th>TF</th>\n",
       "      <td>0.0</td>\n",
       "      <td>0.5</td>\n",
       "      <td>0.0</td>\n",
       "    </tr>\n",
       "    <tr>\n",
       "      <th>peaks</th>\n",
       "      <td>0.5</td>\n",
       "      <td>0.5</td>\n",
       "      <td>0.5</td>\n",
       "    </tr>\n",
       "  </tbody>\n",
       "</table>\n",
       "</div>"
      ],
      "text/plain": [
       "       RNA   TF  peaks\n",
       "RNA    0.5  0.0    0.5\n",
       "TF     0.0  0.5    0.0\n",
       "peaks  0.5  0.5    0.5"
      ]
     },
     "execution_count": 127,
     "metadata": {},
     "output_type": "execute_result"
    }
   ],
   "source": [
    "config['lamb']"
   ]
  },
  {
   "cell_type": "markdown",
   "id": "7c45fa3f-ec86-418a-9b40-487678454b10",
   "metadata": {},
   "source": [
    "### We can draw a graph to illustrate the probability matrix to jump in-between layers"
   ]
  },
  {
   "cell_type": "code",
   "execution_count": 128,
   "id": "bf759c5e-c01a-4d7d-926b-58d6772ad4bb",
   "metadata": {},
   "outputs": [
    {
     "data": {
      "image/png": "[encoded data removed]",
      "text/plain": [
       "<Figure size 700x700 with 1 Axes>"
      ]
     },
     "metadata": {},
     "output_type": "display_data"
    }
   ],
   "source": [
    "hummus.config.draw_config(config)"
   ]
  },
  {
   "cell_type": "markdown",
   "id": "0ae3b9c2-d00b-419c-96c2-6769c5d7182c",
   "metadata": {},
   "source": [
    "_If the order is not suiting you, you can reorganise the columns in 'lamb' parameter_"
   ]
  },
  {
   "cell_type": "code",
   "execution_count": 129,
   "id": "e1940ad2-272e-4236-8d77-48930bb905ab",
   "metadata": {},
   "outputs": [],
   "source": [
    "config['lamb'] = config['lamb'].loc[:, ['TF', 'peaks', 'RNA']]"
   ]
  },
  {
   "cell_type": "code",
   "execution_count": 130,
   "id": "dd0d8559-4b25-4033-9eff-73579fcfadcb",
   "metadata": {},
   "outputs": [
    {
     "data": {
      "image/png": "[encoded data removed]",
      "text/plain": [
       "<Figure size 700x700 with 1 Axes>"
      ]
     },
     "metadata": {},
     "output_type": "display_data"
    }
   ],
   "source": [
    "hummus.config.draw_config(config)"
   ]
  },
  {
   "cell_type": "code",
   "execution_count": 131,
   "id": "400d782c-049f-4891-a086-d6f5f8dbab8d",
   "metadata": {},
   "outputs": [
    {
     "name": "stdout",
     "output_type": "stream",
     "text": [
      " Drawing the default configs for\n",
      "- GRN\n",
      "- Enhancers\n",
      "- Binding regions\n",
      "- Target genes\n"
     ]
    },
    {
     "data": {
      "image/png": "[encoded data removed]",
      "text/plain": [
       "<Figure size 700x700 with 1 Axes>"
      ]
     },
     "metadata": {},
     "output_type": "display_data"
    },
    {
     "data": {
      "image/png": "[encoded data removed]",
      "text/plain": [
       "<Figure size 700x700 with 1 Axes>"
      ]
     },
     "metadata": {},
     "output_type": "display_data"
    },
    {
     "data": {
      "image/png": "[encoded data removed]",
      "text/plain": [
       "<Figure size 700x700 with 1 Axes>"
      ]
     },
     "metadata": {},
     "output_type": "display_data"
    },
    {
     "data": {
      "image/png": "[encoded data removed]",
      "text/plain": [
       "<Figure size 700x700 with 1 Axes>"
      ]
     },
     "metadata": {},
     "output_type": "display_data"
    }
   ],
   "source": [
    "print(' Drawing the default configs for')\n",
    "print('- GRN')\n",
    "print('- Enhancers')\n",
    "print('- Binding regions')\n",
    "print('- Target genes')\n",
    "\n",
    "config['lamb'] = hummus.config.get_grn_lamb(config, draw=True)\n",
    "config['lamb'] = hummus.config.get_enhancers_lamb(config, draw=True)\n",
    "config['lamb'] = hummus.config.get_binding_regions_lamb(config, draw=True)\n",
    "config['lamb'] = hummus.config.get_target_genes_lamb(config, draw=True)\n",
    "#config['lamb'] = hummus.config.get_max_lamb(config, draw=True)  # probability matrix with all possible connexions"
   ]
  },
  {
   "cell_type": "markdown",
   "id": "4a7c88a9-bcd8-470d-8674-344b4d8ed83a",
   "metadata": {},
   "source": [
    "## To add new omics, you have to: \n",
    "1) Add the new multiplex\n",
    "2) Add the new bipartite(s)\n",
    "3) Modify eta (starting) probability\n",
    "4) Modify lamb (transition) probability"
   ]
  },
  {
   "cell_type": "markdown",
   "id": "e9f761ec-8ec1-45d8-998e-2ac16c9e236b",
   "metadata": {},
   "source": [
    "### 1) New multiplex"
   ]
  },
  {
   "cell_type": "code",
   "execution_count": 132,
   "id": "91e92396-2b05-4cfd-9aad-d350f3bd08c9",
   "metadata": {},
   "outputs": [
    {
     "data": {
      "text/plain": [
       "{'RNA': {'graph_type': ['00'], 'layers': ['multiplex/RNA/GENIE3.tsv']},\n",
       " 'TF': {'graph_type': ['00'], 'layers': ['multiplex/TF/PPI.tsv']},\n",
       " 'peaks': {'graph_type': ['00'], 'layers': ['multiplex/peaks/Cicero.tsv']}}"
      ]
     },
     "execution_count": 132,
     "metadata": {},
     "output_type": "execute_result"
    }
   ],
   "source": [
    "config['multiplex']"
   ]
  },
  {
   "cell_type": "markdown",
   "id": "86e103c4-54d6-4250-9b5a-5b9cbfcb1527",
   "metadata": {},
   "source": [
    "**graph_type** is a list of strings containing two binary numbers (0 or 1) that indicates if the networks are weighted and/or directed.<br>\n",
    "- The first number is directed(1) or not (0)<br>\n",
    "- The second number is weighted(1) or not (0)<br>\n",
    "    e.g.: \"graph_type\": **'01'** is an **undirected and weighted network**\n",
    "\n",
    "**layers** contain the paths to the different networks composing the multiplex.\n",
    "\n",
    "There is usually one network only per multiplex, so list of one element each."
   ]
  },
  {
   "cell_type": "code",
   "execution_count": 133,
   "id": "b627b699-9473-4a00-8896-d3a47dc12df3",
   "metadata": {},
   "outputs": [],
   "source": [
    "config['multiplex']['Proteins'] = {\n",
    "    'layers': \"\",\n",
    "    'graph_type': \"\"\n",
    "}"
   ]
  },
  {
   "cell_type": "markdown",
   "id": "de426764-bd41-4764-82cc-4b376d7fc7dc",
   "metadata": {},
   "source": [
    "### 2) New bipartite"
   ]
  },
  {
   "cell_type": "code",
   "execution_count": 134,
   "id": "fe49baeb-28c0-4e7c-9b98-5de40920c591",
   "metadata": {},
   "outputs": [
    {
     "data": {
      "text/plain": [
       "{'bipartite/atac_rna.tsv': {'graph_type': '00',\n",
       "  'source': 'RNA',\n",
       "  'target': 'peaks'},\n",
       " 'bipartite/tf_rna.tsv': {'graph_type': '00',\n",
       "  'source': 'peaks',\n",
       "  'target': 'TF'}}"
      ]
     },
     "execution_count": 134,
     "metadata": {},
     "output_type": "execute_result"
    }
   ],
   "source": [
    "config['bipartite']"
   ]
  },
  {
   "cell_type": "markdown",
   "id": "501183a0-7ac8-405e-bade-51e2c6feb36e",
   "metadata": {},
   "source": [
    "A bipartite is here a single network. You can see that the key is here the path to the network directy and that it contains 3 items:<br>\n",
    "- **source**: Which indicates the **multiplex** containing the source nodes (the left column)\n",
    "- **target**: Which indicates the **multiplex** containing the target nodes (the right column)\n",
    "- **graph_type**: Which indicates if the network is **directed/weighted**, the same way it's used in multiplexes."
   ]
  },
  {
   "cell_type": "code",
   "execution_count": 135,
   "id": "ff6f5362-91b2-4d02-b1ce-9eb137253083",
   "metadata": {},
   "outputs": [],
   "source": [
    "config['bipartite'][\"rna_proteins_path\"] = {\n",
    "    'source': \"RNA\",\n",
    "    'target': \"Proteins\",\n",
    "    'graph_type': \"00\"\n",
    "}"
   ]
  },
  {
   "cell_type": "markdown",
   "id": "e54c576e-ddf3-4af5-b447-8b1f8308a69a",
   "metadata": {},
   "source": [
    "### 3) Modify eta"
   ]
  },
  {
   "cell_type": "code",
   "execution_count": 136,
   "id": "f04b7a93-d609-46f3-8b01-8ce9fd431455",
   "metadata": {},
   "outputs": [
    {
     "data": {
      "text/plain": [
       "RNA      0.0\n",
       "TF       1.0\n",
       "peaks    0.0\n",
       "dtype: float64"
      ]
     },
     "execution_count": 136,
     "metadata": {},
     "output_type": "execute_result"
    }
   ],
   "source": [
    "config['eta']"
   ]
  },
  {
   "cell_type": "markdown",
   "id": "4ec06417-9773-4095-aa9b-b5357cefa149",
   "metadata": {},
   "source": [
    "**eta** is simply a pandas.Series object, that indicates wihat is **the probability to start the random walk from each of the multiplex** <br> (typically a vector of 0s with a single 1 value, for the multiplex containing the type of seeds we use (e.g.: TFs, or genes only)) <br>\n",
    "**It is defined together with lamb**, depending of the regulations we want to study"
   ]
  },
  {
   "cell_type": "code",
   "execution_count": 137,
   "id": "868b1716-01fd-4b9f-9c2e-648fb85916fd",
   "metadata": {},
   "outputs": [
    {
     "data": {
      "text/plain": [
       "TF          1\n",
       "peaks       0\n",
       "RNA         0\n",
       "Proteins    0\n",
       "dtype: int64"
      ]
     },
     "execution_count": 137,
     "metadata": {},
     "output_type": "execute_result"
    }
   ],
   "source": [
    "# Here an example if we wanted to explore the multilayer from the TFs multiplex\n",
    "config['eta'] = pd.Series([1, 0, 0, 0], index=['TF', 'peaks', 'RNA', 'Proteins'])\n",
    "config['eta']"
   ]
  },
  {
   "cell_type": "markdown",
   "id": "1d2b5a0a-af64-4d2b-940d-fcb3b63b2238",
   "metadata": {},
   "source": [
    "### 4) Modify lamb"
   ]
  },
  {
   "cell_type": "code",
   "execution_count": 138,
   "id": "ff89040c-fd9c-49b0-a546-6ab9d8bbdbd5",
   "metadata": {},
   "outputs": [
    {
     "data": {
      "text/html": [
       "<div>\n",
       "<style scoped>\n",
       "    .dataframe tbody tr th:only-of-type {\n",
       "        vertical-align: middle;\n",
       "    }\n",
       "\n",
       "    .dataframe tbody tr th {\n",
       "        vertical-align: top;\n",
       "    }\n",
       "\n",
       "    .dataframe thead th {\n",
       "        text-align: right;\n",
       "    }\n",
       "</style>\n",
       "<table border=\"1\" class=\"dataframe\">\n",
       "  <thead>\n",
       "    <tr style=\"text-align: right;\">\n",
       "      <th></th>\n",
       "      <th>RNA</th>\n",
       "      <th>TF</th>\n",
       "      <th>peaks</th>\n",
       "    </tr>\n",
       "  </thead>\n",
       "  <tbody>\n",
       "    <tr>\n",
       "      <th>RNA</th>\n",
       "      <td>0.5</td>\n",
       "      <td>0.0</td>\n",
       "      <td>0.5</td>\n",
       "    </tr>\n",
       "    <tr>\n",
       "      <th>TF</th>\n",
       "      <td>0.0</td>\n",
       "      <td>0.5</td>\n",
       "      <td>0.0</td>\n",
       "    </tr>\n",
       "    <tr>\n",
       "      <th>peaks</th>\n",
       "      <td>0.5</td>\n",
       "      <td>0.5</td>\n",
       "      <td>0.5</td>\n",
       "    </tr>\n",
       "  </tbody>\n",
       "</table>\n",
       "</div>"
      ],
      "text/plain": [
       "       RNA   TF  peaks\n",
       "RNA    0.5  0.0    0.5\n",
       "TF     0.0  0.5    0.0\n",
       "peaks  0.5  0.5    0.5"
      ]
     },
     "execution_count": 138,
     "metadata": {},
     "output_type": "execute_result"
    }
   ],
   "source": [
    "config['lamb']"
   ]
  },
  {
   "cell_type": "markdown",
   "id": "4b4414f1-2c85-4d0c-9381-108ac9ae4821",
   "metadata": {},
   "source": [
    "**lamb** is a pandas.Dataframe object, that indicates wihat is **the probability to jump between the multiplexes** <br> (It corresponds to the **very good looking** NetworkX plots, that took me a long time to implement ^^) <br>\n",
    "\n",
    "**It is defined together with eta**, depending of the regulations we want to study\n",
    "\n",
    "#### !! lamb[i, j], corresponds to the probability to jump from **j** to **i** !\n",
    "It is thus normalized per columns. You also need to have a bipartite to allows each non-zero value in lamb."
   ]
  },
  {
   "cell_type": "code",
   "execution_count": 139,
   "id": "b332d3e5-24cf-4194-83ab-7e71a7f92e1b",
   "metadata": {},
   "outputs": [],
   "source": [
    "config['lamb'] = hummus.config.initialise_lamb(config, value=0)"
   ]
  },
  {
   "cell_type": "code",
   "execution_count": 140,
   "id": "225be310-7cd7-4ea6-aad5-8c3a4df4ffc9",
   "metadata": {},
   "outputs": [
    {
     "data": {
      "text/html": [
       "<div>\n",
       "<style scoped>\n",
       "    .dataframe tbody tr th:only-of-type {\n",
       "        vertical-align: middle;\n",
       "    }\n",
       "\n",
       "    .dataframe tbody tr th {\n",
       "        vertical-align: top;\n",
       "    }\n",
       "\n",
       "    .dataframe thead th {\n",
       "        text-align: right;\n",
       "    }\n",
       "</style>\n",
       "<table border=\"1\" class=\"dataframe\">\n",
       "  <thead>\n",
       "    <tr style=\"text-align: right;\">\n",
       "      <th></th>\n",
       "      <th>RNA</th>\n",
       "      <th>TF</th>\n",
       "      <th>peaks</th>\n",
       "      <th>Proteins</th>\n",
       "    </tr>\n",
       "  </thead>\n",
       "  <tbody>\n",
       "    <tr>\n",
       "      <th>RNA</th>\n",
       "      <td>0.0</td>\n",
       "      <td>0.0</td>\n",
       "      <td>0.0</td>\n",
       "      <td>0.0</td>\n",
       "    </tr>\n",
       "    <tr>\n",
       "      <th>TF</th>\n",
       "      <td>0.0</td>\n",
       "      <td>0.0</td>\n",
       "      <td>0.0</td>\n",
       "      <td>0.0</td>\n",
       "    </tr>\n",
       "    <tr>\n",
       "      <th>peaks</th>\n",
       "      <td>0.0</td>\n",
       "      <td>0.0</td>\n",
       "      <td>0.0</td>\n",
       "      <td>0.0</td>\n",
       "    </tr>\n",
       "    <tr>\n",
       "      <th>Proteins</th>\n",
       "      <td>0.0</td>\n",
       "      <td>0.0</td>\n",
       "      <td>0.0</td>\n",
       "      <td>0.0</td>\n",
       "    </tr>\n",
       "  </tbody>\n",
       "</table>\n",
       "</div>"
      ],
      "text/plain": [
       "          RNA   TF  peaks  Proteins\n",
       "RNA       0.0  0.0    0.0       0.0\n",
       "TF        0.0  0.0    0.0       0.0\n",
       "peaks     0.0  0.0    0.0       0.0\n",
       "Proteins  0.0  0.0    0.0       0.0"
      ]
     },
     "execution_count": 140,
     "metadata": {},
     "output_type": "execute_result"
    }
   ],
   "source": [
    "config['lamb']"
   ]
  },
  {
   "cell_type": "code",
   "execution_count": 141,
   "id": "fa45d291-a3b4-446e-9f22-4970c5622327",
   "metadata": {},
   "outputs": [],
   "source": [
    "# Here we add the probability to go to each layer from another\n",
    "# Lets imagine the following structure: TF --> peaks <--> RNA <--> Proteins\n",
    "# If we keep all options equiprobable and without forgetting that we have a probability to STAY in the multiplex:\n",
    "\n",
    "config['lamb'].loc[\"TF\", \"TF\"] = 0.5 # probability to go to TF from TF\n",
    "config['lamb'].loc[\"peaks\", \"TF\"] = 0.5 # probability to go to peaks from TF\n",
    "\n",
    "config['lamb'].loc[\"TF\", \"peaks\"] = 1/3 # probability to go to TF FROM peaks\n",
    "config['lamb'].loc[\"peaks\", \"peaks\"] = 1/3 \n",
    "config['lamb'].loc[\"RNA\", \"peaks\"] = 1/3 \n",
    "\n",
    "config['lamb'].loc[\"peaks\", \"RNA\"] = 1/3  # probability to go to peaks FROM RNA\n",
    "config['lamb'].loc[\"RNA\", \"RNA\"] = 1/3 \n",
    "config['lamb'].loc[\"Proteins\", \"RNA\"] = 1/3 \n",
    "\n",
    "config['lamb'].loc[\"RNA\", \"Proteins\"] = 1/2\n",
    "config['lamb'].loc[\"Proteins\", \"Proteins\"] = 1/2\n"
   ]
  },
  {
   "cell_type": "code",
   "execution_count": 142,
   "id": "cd3ff3c1-d80a-40b3-be17-55b0a0a76219",
   "metadata": {},
   "outputs": [
    {
     "data": {
      "text/html": [
       "<div>\n",
       "<style scoped>\n",
       "    .dataframe tbody tr th:only-of-type {\n",
       "        vertical-align: middle;\n",
       "    }\n",
       "\n",
       "    .dataframe tbody tr th {\n",
       "        vertical-align: top;\n",
       "    }\n",
       "\n",
       "    .dataframe thead th {\n",
       "        text-align: right;\n",
       "    }\n",
       "</style>\n",
       "<table border=\"1\" class=\"dataframe\">\n",
       "  <thead>\n",
       "    <tr style=\"text-align: right;\">\n",
       "      <th></th>\n",
       "      <th>RNA</th>\n",
       "      <th>TF</th>\n",
       "      <th>peaks</th>\n",
       "      <th>Proteins</th>\n",
       "    </tr>\n",
       "  </thead>\n",
       "  <tbody>\n",
       "    <tr>\n",
       "      <th>RNA</th>\n",
       "      <td>0.333333</td>\n",
       "      <td>0.0</td>\n",
       "      <td>0.333333</td>\n",
       "      <td>0.5</td>\n",
       "    </tr>\n",
       "    <tr>\n",
       "      <th>TF</th>\n",
       "      <td>0.000000</td>\n",
       "      <td>0.5</td>\n",
       "      <td>0.333333</td>\n",
       "      <td>0.0</td>\n",
       "    </tr>\n",
       "    <tr>\n",
       "      <th>peaks</th>\n",
       "      <td>0.333333</td>\n",
       "      <td>0.5</td>\n",
       "      <td>0.333333</td>\n",
       "      <td>0.0</td>\n",
       "    </tr>\n",
       "    <tr>\n",
       "      <th>Proteins</th>\n",
       "      <td>0.333333</td>\n",
       "      <td>0.0</td>\n",
       "      <td>0.000000</td>\n",
       "      <td>0.5</td>\n",
       "    </tr>\n",
       "  </tbody>\n",
       "</table>\n",
       "</div>"
      ],
      "text/plain": [
       "               RNA   TF     peaks  Proteins\n",
       "RNA       0.333333  0.0  0.333333       0.5\n",
       "TF        0.000000  0.5  0.333333       0.0\n",
       "peaks     0.333333  0.5  0.333333       0.0\n",
       "Proteins  0.333333  0.0  0.000000       0.5"
      ]
     },
     "execution_count": 142,
     "metadata": {},
     "output_type": "execute_result"
    }
   ],
   "source": [
    "config['lamb']"
   ]
  },
  {
   "cell_type": "markdown",
   "id": "183c300d-affa-449d-993b-b5dae8196ae0",
   "metadata": {},
   "source": [
    "#### Let's check the whole config after all these modifications !"
   ]
  },
  {
   "cell_type": "code",
   "execution_count": 143,
   "id": "3f1f3bf6-68d4-428e-b5f9-c2dfdc4252d0",
   "metadata": {},
   "outputs": [
    {
     "data": {
      "text/plain": [
       "{'bipartite': {'bipartite/atac_rna.tsv': {'graph_type': '00',\n",
       "   'source': 'RNA',\n",
       "   'target': 'peaks'},\n",
       "  'bipartite/tf_rna.tsv': {'graph_type': '00',\n",
       "   'source': 'peaks',\n",
       "   'target': 'TF'},\n",
       "  'rna_proteins_path': {'source': 'RNA',\n",
       "   'target': 'Proteins',\n",
       "   'graph_type': '00'}},\n",
       " 'eta': TF          1\n",
       " peaks       0\n",
       " RNA         0\n",
       " Proteins    0\n",
       " dtype: int64,\n",
       " 'lamb':                RNA   TF     peaks  Proteins\n",
       " RNA       0.333333  0.0  0.333333       0.5\n",
       " TF        0.000000  0.5  0.333333       0.0\n",
       " peaks     0.333333  0.5  0.333333       0.0\n",
       " Proteins  0.333333  0.0  0.000000       0.5,\n",
       " 'multiplex': {'RNA': {'graph_type': ['00'],\n",
       "   'layers': ['multiplex/RNA/GENIE3.tsv']},\n",
       "  'TF': {'graph_type': ['00'], 'layers': ['multiplex/TF/PPI.tsv']},\n",
       "  'peaks': {'graph_type': ['00'], 'layers': ['multiplex/peaks/Cicero.tsv']},\n",
       "  'Proteins': {'layers': '', 'graph_type': ''}},\n",
       " 'r': '0.7',\n",
       " 'seed': 'seeds/seeds.txt',\n",
       " 'self_loops': '0'}"
      ]
     },
     "execution_count": 143,
     "metadata": {},
     "output_type": "execute_result"
    }
   ],
   "source": [
    "config"
   ]
  },
  {
   "cell_type": "markdown",
   "id": "6455ddc6-7e61-4610-b38c-24b1f8f5d2a1",
   "metadata": {},
   "source": [
    "### Save the config file"
   ]
  },
  {
   "cell_type": "markdown",
   "id": "675257e2-86fe-44e2-9162-c7f9b214fa9c",
   "metadata": {},
   "source": [
    "We can now save the config file and explore the mutlilayer with this configuration. Usually, I save it in the config folder, itself located in the multilayer_folder (folder containing all the networks, config, etc)"
   ]
  },
  {
   "cell_type": "code",
   "execution_count": 144,
   "id": "161bddad-97f1-42a8-987b-16080c57537f",
   "metadata": {},
   "outputs": [],
   "source": [
    "hummus.config.save_config(config, \"../../../../HuMMuS/hummus_package/vignettes/test_multiplex_genes/config/extended_config.yaml\")"
   ]
  },
  {
   "cell_type": "markdown",
   "id": "0b4f31eb-4281-4d05-8c04-4f4065702607",
   "metadata": {},
   "source": [
    "## Explore the multilayer"
   ]
  },
  {
   "cell_type": "markdown",
   "id": "4242465a-ae15-47dc-8b91-b0adc56cc1a5",
   "metadata": {},
   "source": [
    "We will now use the second module of hummuspy : **hummuspy.explore_network** <br>\n",
    "The most general functions here are **compute_RandomWalk** and **compute_multiple_RandomWalk**"
   ]
  },
  {
   "cell_type": "code",
   "execution_count": 145,
   "id": "48cececf-70aa-475c-be40-1157a9c42d8c",
   "metadata": {},
   "outputs": [
    {
     "ename": "AssertionError",
     "evalue": "There seem to be a incoherence between bipartite source/targets and multiplex namesprovided in get_classic_grn_lamb",
     "output_type": "error",
     "traceback": [
      "\u001b[0;31m---------------------------------------------------------------------------\u001b[0m",
      "\u001b[0;31mAssertionError\u001b[0m                            Traceback (most recent call last)",
      "Cell \u001b[0;32mIn[145], line 5\u001b[0m\n\u001b[1;32m      2\u001b[0m config_name \u001b[38;5;241m=\u001b[39m \u001b[38;5;124m\"\u001b[39m\u001b[38;5;124mextended_config.yaml\u001b[39m\u001b[38;5;124m\"\u001b[39m \u001b[38;5;66;03m# the beautiful name you chose for your config\u001b[39;00m\n\u001b[1;32m      3\u001b[0m list_seeds \u001b[38;5;241m=\u001b[39m [] \u001b[38;5;66;03m# Seeds from which we start the exploration. Generally all the nodes from the startin layer, indicated in 'eta' (e.g.: TFs) \u001b[39;00m\n\u001b[0;32m----> 5\u001b[0m df \u001b[38;5;241m=\u001b[39m \u001b[43mhummus\u001b[49m\u001b[38;5;241;43m.\u001b[39;49m\u001b[43mcore_grn\u001b[49m\u001b[38;5;241;43m.\u001b[39;49m\u001b[43mdefine_grn_from_config\u001b[49m\u001b[43m(\u001b[49m\n\u001b[1;32m      6\u001b[0m \u001b[43m        \u001b[49m\u001b[43mmultilayer_f\u001b[49m\u001b[43m,\u001b[49m\n\u001b[1;32m      7\u001b[0m \u001b[43m        \u001b[49m\u001b[43mconfig\u001b[49m\u001b[43m,\u001b[49m\n\u001b[1;32m      8\u001b[0m \u001b[43m        \u001b[49m\u001b[38;5;124;43m\"\u001b[39;49m\u001b[38;5;124;43mall\u001b[39;49m\u001b[38;5;124;43m\"\u001b[39;49m\u001b[43m,\u001b[49m\n\u001b[1;32m      9\u001b[0m \u001b[43m        \u001b[49m\u001b[43msave\u001b[49m\u001b[38;5;241;43m=\u001b[39;49m\u001b[38;5;28;43;01mFalse\u001b[39;49;00m\u001b[43m,\u001b[49m\u001b[43m \u001b[49m\u001b[38;5;66;43;03m# Do we want to save the results on disk\u001b[39;49;00m\n\u001b[1;32m     10\u001b[0m \u001b[43m        \u001b[49m\u001b[43moutput_f\u001b[49m\u001b[38;5;241;43m=\u001b[39;49m\u001b[38;5;28;43;01mNone\u001b[39;49;00m\u001b[43m,\u001b[49m\u001b[43m \u001b[49m\u001b[38;5;66;43;03m# Name of the result file IF save on disk\u001b[39;49;00m\n\u001b[1;32m     11\u001b[0m \u001b[43m        \u001b[49m\u001b[43mreturn_df\u001b[49m\u001b[38;5;241;43m=\u001b[39;49m\u001b[38;5;28;43;01mTrue\u001b[39;49;00m\u001b[43m,\u001b[49m\u001b[43m \u001b[49m\u001b[38;5;66;43;03m# return in console the results\u001b[39;49;00m\n\u001b[1;32m     12\u001b[0m \u001b[43m                                       \u001b[49m\u001b[38;5;66;43;03m# (e.g.: If you're interested only in TF-genes interactions and not in peaks-related scores, put ['RNA']\u001b[39;49;00m\n\u001b[1;32m     13\u001b[0m \u001b[43m        \u001b[49m\u001b[43mnjobs\u001b[49m\u001b[38;5;241;43m=\u001b[39;49m\u001b[38;5;241;43m1\u001b[39;49m\u001b[43m \u001b[49m\u001b[38;5;66;43;03m# How many cores do you wanna use ?\u001b[39;49;00m\n\u001b[1;32m     14\u001b[0m \u001b[43m)\u001b[49m\n",
      "File \u001b[0;32m~/HuMMuS/hummus_package/hummuspy/src/hummuspy/core_grn.py:293\u001b[0m, in \u001b[0;36mdefine_grn_from_config\u001b[0;34m(multilayer_f, config, gene_list, tf_list, config_name, config_folder, tf_multiplex, peak_multiplex, rna_multiplex, update_config, save, return_df, output_f, njobs)\u001b[0m\n\u001b[1;32m    289\u001b[0m \u001b[38;5;28;01mif\u001b[39;00m update_config:\n\u001b[1;32m    290\u001b[0m     eta \u001b[38;5;241m=\u001b[39m hummuspy\u001b[38;5;241m.\u001b[39mconfig\u001b[38;5;241m.\u001b[39mget_single_layer_eta(config,\n\u001b[1;32m    291\u001b[0m                                                rna_multiplex)\n\u001b[0;32m--> 293\u001b[0m     lamb \u001b[38;5;241m=\u001b[39m \u001b[43mhummuspy\u001b[49m\u001b[38;5;241;43m.\u001b[39;49m\u001b[43mconfig\u001b[49m\u001b[38;5;241;43m.\u001b[39;49m\u001b[43mget_grn_lamb\u001b[49m\u001b[43m(\u001b[49m\u001b[43mconfig\u001b[49m\u001b[43m,\u001b[49m\n\u001b[1;32m    294\u001b[0m \u001b[43m                                        \u001b[49m\u001b[43mtf_multiplex\u001b[49m\u001b[43m,\u001b[49m\n\u001b[1;32m    295\u001b[0m \u001b[43m                                        \u001b[49m\u001b[43mpeak_multiplex\u001b[49m\u001b[43m,\u001b[49m\n\u001b[1;32m    296\u001b[0m \u001b[43m                                        \u001b[49m\u001b[43mrna_multiplex\u001b[49m\u001b[43m,\u001b[49m\n\u001b[1;32m    297\u001b[0m \u001b[43m                                        \u001b[49m\u001b[43mdraw\u001b[49m\u001b[38;5;241;43m=\u001b[39;49m\u001b[38;5;28;43;01mFalse\u001b[39;49;00m\u001b[43m)\u001b[49m\n\u001b[1;32m    298\u001b[0m     config[\u001b[38;5;124m'\u001b[39m\u001b[38;5;124meta\u001b[39m\u001b[38;5;124m'\u001b[39m] \u001b[38;5;241m=\u001b[39m eta\n\u001b[1;32m    299\u001b[0m     config[\u001b[38;5;124m'\u001b[39m\u001b[38;5;124mlamb\u001b[39m\u001b[38;5;124m'\u001b[39m] \u001b[38;5;241m=\u001b[39m lamb\n",
      "File \u001b[0;32m~/HuMMuS/hummus_package/hummuspy/src/hummuspy/config.py:648\u001b[0m, in \u001b[0;36mget_grn_lamb\u001b[0;34m(config, tf_multiplex, peak_multiplex, rna_multiplex, draw)\u001b[0m\n\u001b[1;32m    644\u001b[0m lamb \u001b[38;5;241m=\u001b[39m lamb\u001b[38;5;241m.\u001b[39mdiv(lamb\u001b[38;5;241m.\u001b[39msum(axis\u001b[38;5;241m=\u001b[39m\u001b[38;5;241m0\u001b[39m),\n\u001b[1;32m    645\u001b[0m                 axis\u001b[38;5;241m=\u001b[39m\u001b[38;5;241m1\u001b[39m)\n\u001b[1;32m    647\u001b[0m \u001b[38;5;66;03m# max_lambd check to see\u001b[39;00m\n\u001b[0;32m--> 648\u001b[0m \u001b[38;5;28;01massert\u001b[39;00m check_lamb(config\u001b[38;5;241m=\u001b[39mconfig, lamb\u001b[38;5;241m=\u001b[39mlamb), \u001b[38;5;124m\"\u001b[39m\u001b[38;5;124mThere seem to be a \u001b[39m\u001b[38;5;124m\"\u001b[39m \u001b[38;5;241m+\u001b[39m\\\n\u001b[1;32m    649\u001b[0m     \u001b[38;5;124m\"\u001b[39m\u001b[38;5;124mincoherence between bipartite source/targets and multiplex names\u001b[39m\u001b[38;5;124m\"\u001b[39m \u001b[38;5;241m+\u001b[39m\\\n\u001b[1;32m    650\u001b[0m     \u001b[38;5;124m\"\u001b[39m\u001b[38;5;124mprovided in get_classic_grn_lamb\u001b[39m\u001b[38;5;124m\"\u001b[39m\n\u001b[1;32m    652\u001b[0m \u001b[38;5;28;01mif\u001b[39;00m draw \u001b[38;5;129;01mis\u001b[39;00m \u001b[38;5;28;01mTrue\u001b[39;00m:\n\u001b[1;32m    653\u001b[0m     to_draw_lamb \u001b[38;5;241m=\u001b[39m lamb\u001b[38;5;241m.\u001b[39mloc[[tf_multiplex, peak_multiplex, rna_multiplex],\n\u001b[1;32m    654\u001b[0m                             [tf_multiplex, peak_multiplex, rna_multiplex]]\n",
      "\u001b[0;31mAssertionError\u001b[0m: There seem to be a incoherence between bipartite source/targets and multiplex namesprovided in get_classic_grn_lamb"
     ]
    }
   ],
   "source": [
    "multilayer_f = \"../../../../HuMMuS/hummus_package/vignettes/test_multiplex_genes/\" # the general folder all the files\n",
    "config_name = \"extended_config.yaml\" # the beautiful name you chose for your config\n",
    "list_seeds = [] # Seeds from which we start the exploration. Generally all the nodes from the startin layer, indicated in 'eta' (e.g.: TFs) \n",
    "\n",
    "df = hummus.core_grn.define_grn_from_config(\n",
    "        multilayer_f,\n",
    "        config,\n",
    "        \"all\",\n",
    "        save=False, # Do we want to save the results on disk\n",
    "        output_f=None, # Name of the result file IF save on disk\n",
    "        return_df=True, # return in console the results\n",
    "                                       # (e.g.: If you're interested only in TF-genes interactions and not in peaks-related scores, put ['RNA']\n",
    "        njobs=1 # How many cores do you wanna use ?\n",
    ")"
   ]
  },
  {
   "cell_type": "code",
   "execution_count": 1,
   "id": "9c406e2b",
   "metadata": {},
   "outputs": [
    {
     "ename": "IndentationError",
     "evalue": "unexpected indent (create_multilayer.py, line 726)",
     "output_type": "error",
     "traceback": [
      "Traceback \u001b[0;36m(most recent call last)\u001b[0m:\n",
      "\u001b[0m  File \u001b[1;32m~/miniconda3/envs/hummuspy_recent/lib/python3.10/site-packages/IPython/core/interactiveshell.py:3577\u001b[0m in \u001b[1;35mrun_code\u001b[0m\n    exec(code_obj, self.user_global_ns, self.user_ns)\u001b[0m\n",
      "\u001b[0m  Cell \u001b[1;32mIn[1], line 1\u001b[0m\n    import hummuspy as hummus\u001b[0m\n",
      "\u001b[0m  File \u001b[1;32m~/HuMMuS/hummus_package/hummuspy/src/hummuspy/__init__.py:2\u001b[0m\n    import hummuspy.explore_network\u001b[0m\n",
      "\u001b[0;36m  File \u001b[0;32m~/HuMMuS/hummus_package/hummuspy/src/hummuspy/explore_network.py:1\u001b[0;36m\n\u001b[0;31m    from hummuspy.create_multilayer import Multixrank\u001b[0;36m\n",
      "\u001b[0;36m  File \u001b[0;32m~/HuMMuS/hummus_package/hummuspy/src/hummuspy/create_multilayer.py:726\u001b[0;36m\u001b[0m\n\u001b[0;31m    if not (aggregation in ['nomean', 'gmean', 'hmean', 'mean', 'sum']):\u001b[0m\n\u001b[0m    ^\u001b[0m\n\u001b[0;31mIndentationError\u001b[0m\u001b[0;31m:\u001b[0m unexpected indent\n"
     ]
    }
   ],
   "source": [
    "import hummuspy as hummus\n",
    "import numpy as np\n",
    "import pandas as pd\n",
    "import matplotlib.pyplot as plt\n",
    "import networkx as nx"
   ]
  },
  {
   "cell_type": "markdown",
   "id": "e0b298b8",
   "metadata": {},
   "source": [
    "### Load config file"
   ]
  },
  {
   "cell_type": "code",
   "execution_count": 2,
   "id": "d0cb8099",
   "metadata": {},
   "outputs": [],
   "source": [
    "config = hummus.config.open_config(\"../../../../HuMMuS/hummus_package/vignettes/test_multiplex_genes/config/config.yml\")\n",
    "config[\"eta\"] = pd.Series([1, 0, 0], index=['RNA', 'TF', 'peaks'])"
   ]
  },
  {
   "cell_type": "code",
   "execution_count": 3,
   "id": "df2c799d",
   "metadata": {},
   "outputs": [],
   "source": [
    "# open tf network\n",
    "genes = pd.read_csv(\"../../../../HuMMuS/hummus_package/vignettes/test_multiplex_genes/multiplex/RNA/GENIE3.tsv\", sep=\"\\t\", header=None)\n",
    "genes = list(genes[1].unique())\n"
   ]
  },
  {
   "cell_type": "code",
   "execution_count": 4,
   "id": "bdaa964d",
   "metadata": {},
   "outputs": [],
   "source": [
    "config = hummus.config.process_config(config, multilayer_folder=\"../../../../HuMMuS/hummus_package/vignettes/test_multiplex_genes/\")\n",
    "config['seeds']+=genes # list(TFs) #[\"ARID3A\", \"ARID3B\", \"ARID2\", \"CLOCK\", \"ARNT2\"]"
   ]
  },
  {
   "cell_type": "code",
   "execution_count": 5,
   "id": "50a98ab2",
   "metadata": {},
   "outputs": [
    {
     "name": "stdout",
     "output_type": "stream",
     "text": [
      "RNA_1\n",
      "Opening network from ../../../../HuMMuS/hummus_package/vignettes/test_multiplex_genes/multiplex/RNA/GENIE3.tsv.\n"
     ]
    },
    {
     "name": "stdout",
     "output_type": "stream",
     "text": [
      "TF_1\n",
      "Opening network from ../../../../HuMMuS/hummus_package/vignettes/test_multiplex_genes/multiplex/TF/PPI.tsv.\n",
      "peaks_1\n",
      "Opening network from ../../../../HuMMuS/hummus_package/vignettes/test_multiplex_genes/multiplex/peaks/Cicero.tsv.\n",
      "Opening network from ../../../../HuMMuS/hummus_package/vignettes/test_multiplex_genes/bipartite/atac_rna.tsv.\n",
      "Opening network from ../../../../HuMMuS/hummus_package/vignettes/test_multiplex_genes/bipartite/tf_rna.tsv.\n",
      "http://127.0.0.1:8787/status\n"
     ]
    },
    {
     "name": "stderr",
     "output_type": "stream",
     "text": [
      "Running RWR per seed:  10%|█         | 210/2000 [01:23<16:52,  1.77it/s]2025-05-14 15:42:20,216 - bokeh.server.protocol_handler - ERROR - error handling message\n",
      " message: Message 'PATCH-DOC' content: {'events': [{'kind': 'ModelChanged', 'model': {'id': 'p1288'}, 'attr': 'start', 'new': -737.7450466156006}, {'kind': 'ModelChanged', 'model': {'id': 'p1288'}, 'attr': 'end', 'new': 45084.78752708435}]} \n",
      " error: AssertionError()\n",
      "Traceback (most recent call last):\n",
      "  File \"/home/rtrimbou/miniconda3/envs/hummuspy_recent/lib/python3.10/site-packages/bokeh/server/protocol_handler.py\", line 94, in handle\n",
      "    work = await handler(message, connection)\n",
      "  File \"/home/rtrimbou/miniconda3/envs/hummuspy_recent/lib/python3.10/site-packages/bokeh/server/session.py\", line 295, in patch\n",
      "    return connection.session._handle_patch(message, connection)\n",
      "  File \"/home/rtrimbou/miniconda3/envs/hummuspy_recent/lib/python3.10/site-packages/bokeh/server/connection.py\", line 65, in session\n",
      "    assert self._session is not None\n",
      "AssertionError\n",
      "2025-05-14 15:42:20,567 - bokeh.server.protocol_handler - ERROR - error handling message\n",
      " message: Message 'PATCH-DOC' content: {'events': [{'kind': 'ModelChanged', 'model': {'id': 'p1288'}, 'attr': 'start', 'new': -765.8121585845947}, {'kind': 'ModelChanged', 'model': {'id': 'p1288'}, 'attr': 'end', 'new': 46575.644189834595}]} \n",
      " error: AssertionError()\n",
      "Traceback (most recent call last):\n",
      "  File \"/home/rtrimbou/miniconda3/envs/hummuspy_recent/lib/python3.10/site-packages/bokeh/server/protocol_handler.py\", line 94, in handle\n",
      "    work = await handler(message, connection)\n",
      "  File \"/home/rtrimbou/miniconda3/envs/hummuspy_recent/lib/python3.10/site-packages/bokeh/server/session.py\", line 295, in patch\n",
      "    return connection.session._handle_patch(message, connection)\n",
      "  File \"/home/rtrimbou/miniconda3/envs/hummuspy_recent/lib/python3.10/site-packages/bokeh/server/connection.py\", line 65, in session\n",
      "    assert self._session is not None\n",
      "AssertionError\n",
      "2025-05-14 15:42:20,748 - bokeh.server.protocol_handler - ERROR - error handling message\n",
      " message: Message 'PATCH-DOC' content: {'events': [{'kind': 'ModelChanged', 'model': {'id': 'p1288'}, 'attr': 'end', 'new': 48531.865381240845}]} \n",
      " error: AssertionError()\n",
      "Traceback (most recent call last):\n",
      "  File \"/home/rtrimbou/miniconda3/envs/hummuspy_recent/lib/python3.10/site-packages/bokeh/server/protocol_handler.py\", line 94, in handle\n",
      "    work = await handler(message, connection)\n",
      "  File \"/home/rtrimbou/miniconda3/envs/hummuspy_recent/lib/python3.10/site-packages/bokeh/server/session.py\", line 295, in patch\n",
      "    return connection.session._handle_patch(message, connection)\n",
      "  File \"/home/rtrimbou/miniconda3/envs/hummuspy_recent/lib/python3.10/site-packages/bokeh/server/connection.py\", line 65, in session\n",
      "    assert self._session is not None\n",
      "AssertionError\n",
      "2025-05-14 15:42:20,926 - bokeh.server.protocol_handler - ERROR - error handling message\n",
      " message: Message 'PATCH-DOC' content: {'events': [{'kind': 'ModelChanged', 'model': {'id': 'p1288'}, 'attr': 'end', 'new': 52615.423974990845}]} \n",
      " error: AssertionError()\n",
      "Traceback (most recent call last):\n",
      "  File \"/home/rtrimbou/miniconda3/envs/hummuspy_recent/lib/python3.10/site-packages/bokeh/server/protocol_handler.py\", line 94, in handle\n",
      "    work = await handler(message, connection)\n",
      "  File \"/home/rtrimbou/miniconda3/envs/hummuspy_recent/lib/python3.10/site-packages/bokeh/server/session.py\", line 295, in patch\n",
      "    return connection.session._handle_patch(message, connection)\n",
      "  File \"/home/rtrimbou/miniconda3/envs/hummuspy_recent/lib/python3.10/site-packages/bokeh/server/connection.py\", line 65, in session\n",
      "    assert self._session is not None\n",
      "AssertionError\n",
      "Running RWR per seed:  11%|█         | 211/2000 [01:24<19:58,  1.49it/s]2025-05-14 15:42:21,150 - bokeh.server.protocol_handler - ERROR - error handling message\n",
      " message: Message 'PATCH-DOC' content: {'events': [{'kind': 'ModelChanged', 'model': {'id': 'p1288'}, 'attr': 'end', 'new': 57722.01650428772}]} \n",
      " error: AssertionError()\n",
      "Traceback (most recent call last):\n",
      "  File \"/home/rtrimbou/miniconda3/envs/hummuspy_recent/lib/python3.10/site-packages/bokeh/server/protocol_handler.py\", line 94, in handle\n",
      "    work = await handler(message, connection)\n",
      "  File \"/home/rtrimbou/miniconda3/envs/hummuspy_recent/lib/python3.10/site-packages/bokeh/server/session.py\", line 295, in patch\n",
      "    return connection.session._handle_patch(message, connection)\n",
      "  File \"/home/rtrimbou/miniconda3/envs/hummuspy_recent/lib/python3.10/site-packages/bokeh/server/connection.py\", line 65, in session\n",
      "    assert self._session is not None\n",
      "AssertionError\n",
      "2025-05-14 15:42:21,264 - tornado.application - ERROR - Uncaught exception GET /status/ws (127.0.0.1)\n",
      "HTTPServerRequest(protocol='http', host='127.0.0.1:8787', method='GET', uri='/status/ws', version='HTTP/1.1', remote_ip='127.0.0.1')\n",
      "Traceback (most recent call last):\n",
      "  File \"/home/rtrimbou/miniconda3/envs/hummuspy_recent/lib/python3.10/site-packages/tornado/web.py\", line 1790, in _execute\n",
      "    result = await result\n",
      "  File \"/home/rtrimbou/miniconda3/envs/hummuspy_recent/lib/python3.10/site-packages/tornado/websocket.py\", line 273, in get\n",
      "    await self.ws_connection.accept_connection(self)\n",
      "  File \"/home/rtrimbou/miniconda3/envs/hummuspy_recent/lib/python3.10/site-packages/tornado/websocket.py\", line 863, in accept_connection\n",
      "    await self._accept_connection(handler)\n",
      "  File \"/home/rtrimbou/miniconda3/envs/hummuspy_recent/lib/python3.10/site-packages/tornado/websocket.py\", line 946, in _accept_connection\n",
      "    await self._receive_frame_loop()\n",
      "  File \"/home/rtrimbou/miniconda3/envs/hummuspy_recent/lib/python3.10/site-packages/tornado/websocket.py\", line 1105, in _receive_frame_loop\n",
      "    self.handler.on_ws_connection_close(self.close_code, self.close_reason)\n",
      "  File \"/home/rtrimbou/miniconda3/envs/hummuspy_recent/lib/python3.10/site-packages/tornado/websocket.py\", line 571, in on_ws_connection_close\n",
      "    self.on_connection_close()\n",
      "  File \"/home/rtrimbou/miniconda3/envs/hummuspy_recent/lib/python3.10/site-packages/tornado/websocket.py\", line 563, in on_connection_close\n",
      "    self.on_close()\n",
      "  File \"/home/rtrimbou/miniconda3/envs/hummuspy_recent/lib/python3.10/site-packages/bokeh/server/views/ws.py\", line 308, in on_close\n",
      "    self.connection.session.notify_connection_lost()\n",
      "  File \"/home/rtrimbou/miniconda3/envs/hummuspy_recent/lib/python3.10/site-packages/bokeh/server/connection.py\", line 65, in session\n",
      "    assert self._session is not None\n",
      "AssertionError\n",
      "Running RWR per seed: 100%|██████████| 2000/2000 [07:40<00:00,  4.35it/s]\n",
      "2025-05-14 15:48:37,792 - distributed.worker - ERROR - Failed to communicate with scheduler during heartbeat.\n",
      "Traceback (most recent call last):\n",
      "  File \"/home/rtrimbou/miniconda3/envs/hummuspy_recent/lib/python3.10/site-packages/distributed/comm/tcp.py\", line 226, in read\n",
      "    frames_nosplit_nbytes_bin = await stream.read_bytes(fmt_size)\n",
      "tornado.iostream.StreamClosedError: Stream is closed\n",
      "\n",
      "The above exception was the direct cause of the following exception:\n",
      "\n",
      "Traceback (most recent call last):\n",
      "  File \"/home/rtrimbou/miniconda3/envs/hummuspy_recent/lib/python3.10/site-packages/distributed/worker.py\", line 1267, in heartbeat\n",
      "    response = await retry_operation(\n",
      "  File \"/home/rtrimbou/miniconda3/envs/hummuspy_recent/lib/python3.10/site-packages/distributed/utils_comm.py\", line 416, in retry_operation\n",
      "    return await retry(\n",
      "  File \"/home/rtrimbou/miniconda3/envs/hummuspy_recent/lib/python3.10/site-packages/distributed/utils_comm.py\", line 395, in retry\n",
      "    return await coro()\n",
      "  File \"/home/rtrimbou/miniconda3/envs/hummuspy_recent/lib/python3.10/site-packages/distributed/core.py\", line 1259, in send_recv_from_rpc\n",
      "    return await send_recv(comm=comm, op=key, **kwargs)\n",
      "  File \"/home/rtrimbou/miniconda3/envs/hummuspy_recent/lib/python3.10/site-packages/distributed/core.py\", line 1018, in send_recv\n",
      "    response = await comm.read(deserializers=deserializers)\n",
      "  File \"/home/rtrimbou/miniconda3/envs/hummuspy_recent/lib/python3.10/site-packages/distributed/comm/tcp.py\", line 237, in read\n",
      "    convert_stream_closed_error(self, e)\n",
      "  File \"/home/rtrimbou/miniconda3/envs/hummuspy_recent/lib/python3.10/site-packages/distributed/comm/tcp.py\", line 137, in convert_stream_closed_error\n",
      "    raise CommClosedError(f\"in {obj}: {exc}\") from exc\n",
      "distributed.comm.core.CommClosedError: in <TCP (closed) ConnectionPool.heartbeat_worker local=tcp://127.0.0.1:38662 remote=tcp://127.0.0.1:46229>: Stream is closed\n"
     ]
    },
    {
     "data": {
      "text/html": [
       "<div>\n",
       "<style scoped>\n",
       "    .dataframe tbody tr th:only-of-type {\n",
       "        vertical-align: middle;\n",
       "    }\n",
       "\n",
       "    .dataframe tbody tr th {\n",
       "        vertical-align: top;\n",
       "    }\n",
       "\n",
       "    .dataframe thead th {\n",
       "        text-align: right;\n",
       "    }\n",
       "</style>\n",
       "<table border=\"1\" class=\"dataframe\">\n",
       "  <thead>\n",
       "    <tr style=\"text-align: right;\">\n",
       "      <th></th>\n",
       "      <th>index</th>\n",
       "      <th>layer</th>\n",
       "      <th>target</th>\n",
       "      <th>path_layer</th>\n",
       "      <th>score</th>\n",
       "      <th>seed</th>\n",
       "    </tr>\n",
       "  </thead>\n",
       "  <tbody>\n",
       "    <tr>\n",
       "      <th>0</th>\n",
       "      <td>1775</td>\n",
       "      <td>RNA</td>\n",
       "      <td>DCAF6</td>\n",
       "      <td>RNA_1</td>\n",
       "      <td>7.190492e-01</td>\n",
       "      <td>DCAF6</td>\n",
       "    </tr>\n",
       "    <tr>\n",
       "      <th>1</th>\n",
       "      <td>1746</td>\n",
       "      <td>RNA</td>\n",
       "      <td>DAB1</td>\n",
       "      <td>RNA_1</td>\n",
       "      <td>7.190492e-01</td>\n",
       "      <td>ANKRD54</td>\n",
       "    </tr>\n",
       "    <tr>\n",
       "      <th>2</th>\n",
       "      <td>83</td>\n",
       "      <td>RNA</td>\n",
       "      <td>ACACA</td>\n",
       "      <td>RNA_1</td>\n",
       "      <td>7.190492e-01</td>\n",
       "      <td>ATP2C1</td>\n",
       "    </tr>\n",
       "    <tr>\n",
       "      <th>3</th>\n",
       "      <td>146</td>\n",
       "      <td>RNA</td>\n",
       "      <td>ADAMTS19</td>\n",
       "      <td>RNA_1</td>\n",
       "      <td>7.190492e-01</td>\n",
       "      <td>ADAMTS19</td>\n",
       "    </tr>\n",
       "    <tr>\n",
       "      <th>4</th>\n",
       "      <td>129</td>\n",
       "      <td>RNA</td>\n",
       "      <td>ACTR6</td>\n",
       "      <td>RNA_1</td>\n",
       "      <td>7.190492e-01</td>\n",
       "      <td>AADAT</td>\n",
       "    </tr>\n",
       "    <tr>\n",
       "      <th>...</th>\n",
       "      <td>...</td>\n",
       "      <td>...</td>\n",
       "      <td>...</td>\n",
       "      <td>...</td>\n",
       "      <td>...</td>\n",
       "      <td>...</td>\n",
       "    </tr>\n",
       "    <tr>\n",
       "      <th>7259995</th>\n",
       "      <td>1622</td>\n",
       "      <td>peaks</td>\n",
       "      <td>chr16-30571413-30572326</td>\n",
       "      <td>peaks_1</td>\n",
       "      <td>4.442934e-15</td>\n",
       "      <td>ADGRL2</td>\n",
       "    </tr>\n",
       "    <tr>\n",
       "      <th>7259996</th>\n",
       "      <td>1617</td>\n",
       "      <td>peaks</td>\n",
       "      <td>chr16-30378131-30379136</td>\n",
       "      <td>peaks_1</td>\n",
       "      <td>4.442932e-15</td>\n",
       "      <td>BAX</td>\n",
       "    </tr>\n",
       "    <tr>\n",
       "      <th>7259997</th>\n",
       "      <td>1622</td>\n",
       "      <td>peaks</td>\n",
       "      <td>chr16-30571413-30572326</td>\n",
       "      <td>peaks_1</td>\n",
       "      <td>4.442932e-15</td>\n",
       "      <td>BAX</td>\n",
       "    </tr>\n",
       "    <tr>\n",
       "      <th>7259998</th>\n",
       "      <td>1622</td>\n",
       "      <td>peaks</td>\n",
       "      <td>chr16-30571413-30572326</td>\n",
       "      <td>peaks_1</td>\n",
       "      <td>4.442930e-15</td>\n",
       "      <td>ATP5H</td>\n",
       "    </tr>\n",
       "    <tr>\n",
       "      <th>7259999</th>\n",
       "      <td>1617</td>\n",
       "      <td>peaks</td>\n",
       "      <td>chr16-30378131-30379136</td>\n",
       "      <td>peaks_1</td>\n",
       "      <td>4.442930e-15</td>\n",
       "      <td>ATP5H</td>\n",
       "    </tr>\n",
       "  </tbody>\n",
       "</table>\n",
       "<p>7260000 rows × 6 columns</p>\n",
       "</div>"
      ],
      "text/plain": [
       "         index  layer                   target path_layer         score  \\\n",
       "0         1775    RNA                    DCAF6      RNA_1  7.190492e-01   \n",
       "1         1746    RNA                     DAB1      RNA_1  7.190492e-01   \n",
       "2           83    RNA                    ACACA      RNA_1  7.190492e-01   \n",
       "3          146    RNA                 ADAMTS19      RNA_1  7.190492e-01   \n",
       "4          129    RNA                    ACTR6      RNA_1  7.190492e-01   \n",
       "...        ...    ...                      ...        ...           ...   \n",
       "7259995   1622  peaks  chr16-30571413-30572326    peaks_1  4.442934e-15   \n",
       "7259996   1617  peaks  chr16-30378131-30379136    peaks_1  4.442932e-15   \n",
       "7259997   1622  peaks  chr16-30571413-30572326    peaks_1  4.442932e-15   \n",
       "7259998   1622  peaks  chr16-30571413-30572326    peaks_1  4.442930e-15   \n",
       "7259999   1617  peaks  chr16-30378131-30379136    peaks_1  4.442930e-15   \n",
       "\n",
       "             seed  \n",
       "0           DCAF6  \n",
       "1         ANKRD54  \n",
       "2          ATP2C1  \n",
       "3        ADAMTS19  \n",
       "4           AADAT  \n",
       "...           ...  \n",
       "7259995    ADGRL2  \n",
       "7259996       BAX  \n",
       "7259997       BAX  \n",
       "7259998     ATP5H  \n",
       "7259999     ATP5H  \n",
       "\n",
       "[7260000 rows x 6 columns]"
      ]
     },
     "execution_count": 5,
     "metadata": {},
     "output_type": "execute_result"
    }
   ],
   "source": [
    "df = hummus.explore_network.compute_multiple_RandomWalk(\n",
    "    **config,\n",
    "    save=False,\n",
    "    n_jobs=4\n",
    ")\n",
    "df\n"
   ]
  },
  {
   "cell_type": "code",
   "execution_count": 6,
   "id": "4b4d8c58",
   "metadata": {},
   "outputs": [
    {
     "data": {
      "text/plain": [
       "2000"
      ]
     },
     "execution_count": 6,
     "metadata": {},
     "output_type": "execute_result"
    }
   ],
   "source": [
    "len(df[\"seed\"].unique())"
   ]
  },
  {
   "cell_type": "code",
   "execution_count": null,
   "id": "1a6b1f41",
   "metadata": {},
   "outputs": [
    {
     "name": "stdout",
     "output_type": "stream",
     "text": [
      "Processing /home/rtrimbou/HuMMuS/hummus_package/hummuspy\n",
      "  Installing build dependencies ... \u001b[?25ldone\n",
      "\u001b[?25h  Getting requirements to build wheel ... \u001b[?25ldone\n",
      "\u001b[?25h  Preparing metadata (pyproject.toml) ... \u001b[?25ldone\n",
      "\u001b[?25hRequirement already satisfied: joblib<2.0.0,>=1.2.0 in /home/rtrimbou/miniconda3/envs/hummuspy/lib/python3.10/site-packages (from hummuspy==0.1.4) (1.4.2)\n",
      "Requirement already satisfied: matplotlib<4.0.0,>=3.4.3 in /home/rtrimbou/miniconda3/envs/hummuspy/lib/python3.10/site-packages (from hummuspy==0.1.4) (3.9.0)\n",
      "Requirement already satisfied: multixrank<0.2,>=0.1 in /home/rtrimbou/miniconda3/envs/hummuspy/lib/python3.10/site-packages (from hummuspy==0.1.4) (0.1)\n",
      "Requirement already satisfied: numpy<2.0.0,>=1.24.2 in /home/rtrimbou/miniconda3/envs/hummuspy/lib/python3.10/site-packages (from hummuspy==0.1.4) (1.26.4)\n",
      "Requirement already satisfied: pandas<3.0.0,>=2.0.0 in /home/rtrimbou/miniconda3/envs/hummuspy/lib/python3.10/site-packages (from hummuspy==0.1.4) (2.1.1)\n",
      "Requirement already satisfied: pyyaml<7.0,>=6.0 in /home/rtrimbou/miniconda3/envs/hummuspy/lib/python3.10/site-packages (from hummuspy==0.1.4) (6.0.1)\n",
      "Requirement already satisfied: scipy<2.0.0,>=1.8.0 in /home/rtrimbou/miniconda3/envs/hummuspy/lib/python3.10/site-packages (from hummuspy==0.1.4) (1.13.1)\n",
      "Requirement already satisfied: tqdm<5.0.0,>=4.65.0 in /home/rtrimbou/miniconda3/envs/hummuspy/lib/python3.10/site-packages (from hummuspy==0.1.4) (4.66.4)\n",
      "Requirement already satisfied: contourpy>=1.0.1 in /home/rtrimbou/miniconda3/envs/hummuspy/lib/python3.10/site-packages (from matplotlib<4.0.0,>=3.4.3->hummuspy==0.1.4) (1.2.1)\n",
      "Requirement already satisfied: cycler>=0.10 in /home/rtrimbou/miniconda3/envs/hummuspy/lib/python3.10/site-packages (from matplotlib<4.0.0,>=3.4.3->hummuspy==0.1.4) (0.12.1)\n",
      "Requirement already satisfied: fonttools>=4.22.0 in /home/rtrimbou/miniconda3/envs/hummuspy/lib/python3.10/site-packages (from matplotlib<4.0.0,>=3.4.3->hummuspy==0.1.4) (4.53.0)\n",
      "Requirement already satisfied: kiwisolver>=1.3.1 in /home/rtrimbou/miniconda3/envs/hummuspy/lib/python3.10/site-packages (from matplotlib<4.0.0,>=3.4.3->hummuspy==0.1.4) (1.4.5)\n",
      "Requirement already satisfied: packaging>=20.0 in /home/rtrimbou/miniconda3/envs/hummuspy/lib/python3.10/site-packages (from matplotlib<4.0.0,>=3.4.3->hummuspy==0.1.4) (24.1)\n",
      "Requirement already satisfied: pillow>=8 in /home/rtrimbou/miniconda3/envs/hummuspy/lib/python3.10/site-packages (from matplotlib<4.0.0,>=3.4.3->hummuspy==0.1.4) (10.3.0)\n",
      "Requirement already satisfied: pyparsing>=2.3.1 in /home/rtrimbou/miniconda3/envs/hummuspy/lib/python3.10/site-packages (from matplotlib<4.0.0,>=3.4.3->hummuspy==0.1.4) (3.1.2)\n",
      "Requirement already satisfied: python-dateutil>=2.7 in /home/rtrimbou/miniconda3/envs/hummuspy/lib/python3.10/site-packages (from matplotlib<4.0.0,>=3.4.3->hummuspy==0.1.4) (2.9.0.post0)\n",
      "Requirement already satisfied: networkx==2.5 in /home/rtrimbou/miniconda3/envs/hummuspy/lib/python3.10/site-packages (from multixrank<0.2,>=0.1->hummuspy==0.1.4) (2.5)\n",
      "Requirement already satisfied: psutil in /home/rtrimbou/miniconda3/envs/hummuspy/lib/python3.10/site-packages (from multixrank<0.2,>=0.1->hummuspy==0.1.4) (5.9.8)\n",
      "Requirement already satisfied: decorator>=4.3.0 in /home/rtrimbou/miniconda3/envs/hummuspy/lib/python3.10/site-packages (from networkx==2.5->multixrank<0.2,>=0.1->hummuspy==0.1.4) (5.1.1)\n",
      "Requirement already satisfied: pytz>=2020.1 in /home/rtrimbou/miniconda3/envs/hummuspy/lib/python3.10/site-packages (from pandas<3.0.0,>=2.0.0->hummuspy==0.1.4) (2024.1)\n",
      "Requirement already satisfied: tzdata>=2022.1 in /home/rtrimbou/miniconda3/envs/hummuspy/lib/python3.10/site-packages (from pandas<3.0.0,>=2.0.0->hummuspy==0.1.4) (2024.1)\n",
      "Requirement already satisfied: six>=1.5 in /home/rtrimbou/miniconda3/envs/hummuspy/lib/python3.10/site-packages (from python-dateutil>=2.7->matplotlib<4.0.0,>=3.4.3->hummuspy==0.1.4) (1.16.0)\n",
      "Building wheels for collected packages: hummuspy\n",
      "  Building wheel for hummuspy (pyproject.toml) ... \u001b[?25ldone\n",
      "\u001b[?25h  Created wheel for hummuspy: filename=hummuspy-0.1.4-py3-none-any.whl size=23293 sha256=8d45cfad269b40c2d40805813cefa363ac1cba66a4bfbc614d0bf7c0a0558ebd\n",
      "  Stored in directory: /tmp/pip-ephem-wheel-cache-1goxahj2/wheels/bb/65/2c/e0f4ac73536045783e0ac23c027c4347c43a62cdb780bc856a\n",
      "Successfully built hummuspy\n",
      "Installing collected packages: hummuspy\n",
      "  Attempting uninstall: hummuspy\n",
      "    Found existing installation: hummuspy 0.1.4\n",
      "    Uninstalling hummuspy-0.1.4:\n",
      "      Successfully uninstalled hummuspy-0.1.4\n",
      "Successfully installed hummuspy-0.1.4\n",
      "Note: you may need to restart the kernel to use updated packages.\n"
     ]
    }
   ],
   "source": [
    "pip install .."
   ]
  },
  {
   "cell_type": "code",
   "execution_count": null,
   "id": "8ac0dc6f",
   "metadata": {},
   "outputs": [],
   "source": []
  }
 ],
 "metadata": {
  "kernelspec": {
   "display_name": "Python 3 (ipykernel)",
   "language": "python",
   "name": "python3"
  },
  "language_info": {
   "codemirror_mode": {
    "name": "ipython",
    "version": 3
   },
   "file_extension": ".py",
   "mimetype": "text/x-python",
   "name": "python",
   "nbconvert_exporter": "python",
   "pygments_lexer": "ipython3",
   "version": "3.10.13"
  }
 },
 "nbformat": 4,
 "nbformat_minor": 5
}
